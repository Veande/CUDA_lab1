{
  "nbformat": 4,
  "nbformat_minor": 0,
  "metadata": {
    "colab": {
      "name": "Lab1_Palagin.ipynb",
      "provenance": [],
      "authorship_tag": "ABX9TyPC0sx6LnvgBMbI3gjDIWVd",
      "include_colab_link": true
    },
    "kernelspec": {
      "name": "python3",
      "display_name": "Python 3"
    },
    "accelerator": "GPU"
  },
  "cells": [
    {
      "cell_type": "markdown",
      "metadata": {
        "id": "view-in-github",
        "colab_type": "text"
      },
      "source": [
        "<a href=\"https://colab.research.google.com/github/Veandis/CUDA_lab1/blob/main/Lab1_Palagin.ipynb\" target=\"_parent\"><img src=\"https://colab.research.google.com/assets/colab-badge.svg\" alt=\"Open In Colab\"/></a>"
      ]
    },
    {
      "cell_type": "code",
      "metadata": {
        "id": "9C9su4XwKVo1",
        "outputId": "bac23f04-236f-48f8-91e8-150e69d99da4",
        "colab": {
          "base_uri": "https://localhost:8080/"
        }
      },
      "source": [
        "!pip install cupy-cuda101"
      ],
      "execution_count": 3,
      "outputs": [
        {
          "output_type": "stream",
          "text": [
            "Requirement already satisfied: cupy-cuda101 in /usr/local/lib/python3.6/dist-packages (7.4.0)\n",
            "Requirement already satisfied: numpy>=1.9.0 in /usr/local/lib/python3.6/dist-packages (from cupy-cuda101) (1.18.5)\n",
            "Requirement already satisfied: six>=1.9.0 in /usr/local/lib/python3.6/dist-packages (from cupy-cuda101) (1.15.0)\n",
            "Requirement already satisfied: fastrlock>=0.3 in /usr/local/lib/python3.6/dist-packages (from cupy-cuda101) (0.5)\n"
          ],
          "name": "stdout"
        }
      ]
    },
    {
      "cell_type": "code",
      "metadata": {
        "id": "MUtFtUZ8Z5ru",
        "outputId": "f774dff7-abf5-4654-f743-3e563b885e4f",
        "colab": {
          "base_uri": "https://localhost:8080/"
        }
      },
      "source": [
        "!pip install py-cpuinfo"
      ],
      "execution_count": 4,
      "outputs": [
        {
          "output_type": "stream",
          "text": [
            "Requirement already satisfied: py-cpuinfo in /usr/local/lib/python3.6/dist-packages (7.0.0)\n"
          ],
          "name": "stdout"
        }
      ]
    },
    {
      "cell_type": "code",
      "metadata": {
        "id": "UTM45bqG3X9O"
      },
      "source": [
        "import numpy as np\n",
        "import cupy as cp\n",
        "import pandas as pd\n",
        "import time"
      ],
      "execution_count": 5,
      "outputs": []
    },
    {
      "cell_type": "code",
      "metadata": {
        "id": "ItWm98cWZhjR",
        "outputId": "b2ca7c51-064f-420a-c04b-e895dc8a6cd9",
        "colab": {
          "base_uri": "https://localhost:8080/",
          "height": 35
        }
      },
      "source": [
        "import cpuinfo\n",
        "cpuinfo.get_cpu_info()['brand_raw']"
      ],
      "execution_count": 65,
      "outputs": [
        {
          "output_type": "execute_result",
          "data": {
            "application/vnd.google.colaboratory.intrinsic+json": {
              "type": "string"
            },
            "text/plain": [
              "'Intel(R) Xeon(R) CPU @ 2.20GHz'"
            ]
          },
          "metadata": {
            "tags": []
          },
          "execution_count": 65
        }
      ]
    },
    {
      "cell_type": "code",
      "metadata": {
        "id": "TXQZnWjG8a-i",
        "outputId": "3ba91fb5-3f16-4db0-fd6d-5d49e14d67b6",
        "colab": {
          "base_uri": "https://localhost:8080/"
        }
      },
      "source": [
        "!nvidia-smi"
      ],
      "execution_count": 66,
      "outputs": [
        {
          "output_type": "stream",
          "text": [
            "Mon Nov  2 12:32:29 2020       \n",
            "+-----------------------------------------------------------------------------+\n",
            "| NVIDIA-SMI 455.32.00    Driver Version: 418.67       CUDA Version: 10.1     |\n",
            "|-------------------------------+----------------------+----------------------+\n",
            "| GPU  Name        Persistence-M| Bus-Id        Disp.A | Volatile Uncorr. ECC |\n",
            "| Fan  Temp  Perf  Pwr:Usage/Cap|         Memory-Usage | GPU-Util  Compute M. |\n",
            "|                               |                      |               MIG M. |\n",
            "|===============================+======================+======================|\n",
            "|   0  Tesla T4            Off  | 00000000:00:04.0 Off |                    0 |\n",
            "| N/A   77C    P0    32W /  70W |    345MiB / 15079MiB |      0%      Default |\n",
            "|                               |                      |                 ERR! |\n",
            "+-------------------------------+----------------------+----------------------+\n",
            "                                                                               \n",
            "+-----------------------------------------------------------------------------+\n",
            "| Processes:                                                                  |\n",
            "|  GPU   GI   CI        PID   Type   Process name                  GPU Memory |\n",
            "|        ID   ID                                                   Usage      |\n",
            "|=============================================================================|\n",
            "|  No running processes found                                                 |\n",
            "+-----------------------------------------------------------------------------+\n"
          ],
          "name": "stdout"
        }
      ]
    },
    {
      "cell_type": "code",
      "metadata": {
        "id": "xxOG9n0OPpOg"
      },
      "source": [
        "n = 128\n",
        "count=0\n",
        "result= pd.DataFrame(columns = ['size','cpu_time','gpu_time','acceleration'])"
      ],
      "execution_count": 76,
      "outputs": []
    },
    {
      "cell_type": "code",
      "metadata": {
        "id": "599SqjvjTCgV",
        "outputId": "a23f0f2d-1ddf-4b6d-90a0-93492f778aa3",
        "colab": {
          "base_uri": "https://localhost:8080/",
          "height": 204
        }
      },
      "source": [
        "while n<2049:\n",
        "  matrix_a = np.ones((n, n)) \n",
        "  matrix_b = np.ones((n, n))\n",
        "\n",
        "  # перемножение матриц (cpu)\n",
        "  start_cpu = time.time()\n",
        "  dot_cpu = np.dot(matrix_a, matrix_b)\n",
        "  end_cpu = time.time()\n",
        "  time_cpu = end_cpu - start_cpu\n",
        "          \n",
        "  matrix_a = cp.ones((n, n)) \n",
        "  matrix_b = cp.ones((n, n))\t\t\n",
        "        \n",
        "  # перемножение матриц (gpu)\n",
        "  start_gpu = time.time()\n",
        "  dot_gpu = cp.dot(matrix_a, matrix_b)\n",
        "  end_gpu = time.time()\n",
        "  time_gpu = end_gpu - start_gpu\n",
        "\n",
        "  #запись результатов в DataFrame\n",
        "  result.loc[count] = [n, time_cpu, time_gpu, time_cpu/time_gpu]\n",
        "  n*=2\n",
        "  count+=1\n",
        "result"
      ],
      "execution_count": 77,
      "outputs": [
        {
          "output_type": "execute_result",
          "data": {
            "text/html": [
              "<div>\n",
              "<style scoped>\n",
              "    .dataframe tbody tr th:only-of-type {\n",
              "        vertical-align: middle;\n",
              "    }\n",
              "\n",
              "    .dataframe tbody tr th {\n",
              "        vertical-align: top;\n",
              "    }\n",
              "\n",
              "    .dataframe thead th {\n",
              "        text-align: right;\n",
              "    }\n",
              "</style>\n",
              "<table border=\"1\" class=\"dataframe\">\n",
              "  <thead>\n",
              "    <tr style=\"text-align: right;\">\n",
              "      <th></th>\n",
              "      <th>size</th>\n",
              "      <th>cpu_time</th>\n",
              "      <th>gpu_time</th>\n",
              "      <th>acceleration</th>\n",
              "    </tr>\n",
              "  </thead>\n",
              "  <tbody>\n",
              "    <tr>\n",
              "      <th>0</th>\n",
              "      <td>128.0</td>\n",
              "      <td>0.000768</td>\n",
              "      <td>0.000083</td>\n",
              "      <td>9.234957</td>\n",
              "    </tr>\n",
              "    <tr>\n",
              "      <th>1</th>\n",
              "      <td>256.0</td>\n",
              "      <td>0.002902</td>\n",
              "      <td>0.000066</td>\n",
              "      <td>43.776978</td>\n",
              "    </tr>\n",
              "    <tr>\n",
              "      <th>2</th>\n",
              "      <td>512.0</td>\n",
              "      <td>0.015914</td>\n",
              "      <td>0.000062</td>\n",
              "      <td>256.726923</td>\n",
              "    </tr>\n",
              "    <tr>\n",
              "      <th>3</th>\n",
              "      <td>1024.0</td>\n",
              "      <td>0.066125</td>\n",
              "      <td>0.000129</td>\n",
              "      <td>511.715867</td>\n",
              "    </tr>\n",
              "    <tr>\n",
              "      <th>4</th>\n",
              "      <td>2048.0</td>\n",
              "      <td>0.506289</td>\n",
              "      <td>0.000097</td>\n",
              "      <td>5243.281481</td>\n",
              "    </tr>\n",
              "  </tbody>\n",
              "</table>\n",
              "</div>"
            ],
            "text/plain": [
              "     size  cpu_time  gpu_time  acceleration\n",
              "0   128.0  0.000768  0.000083      9.234957\n",
              "1   256.0  0.002902  0.000066     43.776978\n",
              "2   512.0  0.015914  0.000062    256.726923\n",
              "3  1024.0  0.066125  0.000129    511.715867\n",
              "4  2048.0  0.506289  0.000097   5243.281481"
            ]
          },
          "metadata": {
            "tags": []
          },
          "execution_count": 77
        }
      ]
    },
    {
      "cell_type": "code",
      "metadata": {
        "id": "_kqaPUK1Vu_V"
      },
      "source": [
        ""
      ],
      "execution_count": 32,
      "outputs": []
    }
  ]
}